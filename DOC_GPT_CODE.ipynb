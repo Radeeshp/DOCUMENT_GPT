{
  "cells": [
    {
      "cell_type": "code",
      "execution_count": null,
      "id": "ad66c9aa",
      "metadata": {
        "id": "ad66c9aa"
      },
      "outputs": [],
      "source": [
        "from langchain.embeddings.openai import OpenAIEmbeddings\n",
        "from langchain.vectorstores import FAISS\n",
        "from langchain.text_splitter import RecursiveCharacterTextSplitter\n",
        "from langchain import OpenAI\n",
        "from langchain.chains import RetrievalQA\n",
        "from langchain.document_loaders import DirectoryLoader\n",
        "import magic\n",
        "import os\n",
        "import nltk\n",
        "\n",
        "openai_api_key = \"******************\"\n",
        "\n",
        "# nltk.download('averaged_perceptron_tagger')\n",
        "\n",
        "# pip install unstructured\n",
        "# Other dependencies to install https://python.langchain.com/en/latest/modules/indexes/document_loaders/examples/unstructured_file.html\n",
        "# pip install python-magic-bin\n",
        "# pip install chromadb"
      ]
    },
    {
      "cell_type": "code",
      "execution_count": null,
      "id": "e8a28a08",
      "metadata": {
        "id": "e8a28a08"
      },
      "outputs": [],
      "source": [
        "# Get your loader ready\n",
        "loader = DirectoryLoader('/content/drive/MyDrive/Law', glob='**/*.txt')"
      ]
    },
    {
      "cell_type": "code",
      "execution_count": null,
      "id": "6a9740d9",
      "metadata": {
        "colab": {
          "base_uri": "https://localhost:8080/"
        },
        "id": "6a9740d9",
        "outputId": "b5cd89a4-3d46-43ba-8788-85bf215d7351"
      },
      "outputs": [
        {
          "name": "stderr",
          "output_type": "stream",
          "text": [
            "[nltk_data] Downloading package punkt to /root/nltk_data...\n",
            "[nltk_data]   Unzipping tokenizers/punkt.zip.\n",
            "[nltk_data] Downloading package averaged_perceptron_tagger to\n",
            "[nltk_data]     /root/nltk_data...\n",
            "[nltk_data]   Unzipping taggers/averaged_perceptron_tagger.zip.\n"
          ]
        }
      ],
      "source": [
        "# Load up your text into documents\n",
        "documents = loader.load()"
      ]
    },
    {
      "cell_type": "code",
      "execution_count": null,
      "id": "cKmiHPOnAFLu",
      "metadata": {
        "colab": {
          "base_uri": "https://localhost:8080/"
        },
        "id": "cKmiHPOnAFLu",
        "outputId": "58c22e0c-f041-49b4-a6df-6a9fc868a766"
      },
      "outputs": [
        {
          "name": "stdout",
          "output_type": "stream",
          "text": [
            "Mounted at /content/drive\n"
          ]
        }
      ],
      "source": [
        "from google.colab import drive\n",
        "drive.mount('/content/drive')"
      ]
    },
    {
      "cell_type": "code",
      "execution_count": null,
      "id": "3153f864",
      "metadata": {
        "id": "3153f864"
      },
      "outputs": [],
      "source": [
        "# Get your text splitter ready\n",
        "text_splitter = RecursiveCharacterTextSplitter(chunk_size=2000, chunk_overlap=0)"
      ]
    },
    {
      "cell_type": "code",
      "execution_count": null,
      "id": "a792c6fb",
      "metadata": {
        "id": "a792c6fb"
      },
      "outputs": [],
      "source": [
        "# Split your documents into texts\n",
        "texts = text_splitter.split_documents(documents)"
      ]
    },
    {
      "cell_type": "code",
      "execution_count": null,
      "id": "d2cad0de",
      "metadata": {
        "id": "d2cad0de"
      },
      "outputs": [],
      "source": [
        "# Turn your texts into embeddings\n",
        "embeddings = OpenAIEmbeddings(openai_api_key=openai_api_key)"
      ]
    },
    {
      "cell_type": "code",
      "execution_count": null,
      "id": "734ed265",
      "metadata": {
        "id": "734ed265"
      },
      "outputs": [],
      "source": [
        "# Get your docsearch ready\n",
        "docsearch = FAISS.from_documents(texts, embeddings)"
      ]
    },
    {
      "cell_type": "code",
      "execution_count": null,
      "id": "66826924",
      "metadata": {
        "id": "66826924"
      },
      "outputs": [],
      "source": [
        "# Load up your LLM\n",
        "llm = OpenAI(openai_api_key=openai_api_key)"
      ]
    },
    {
      "cell_type": "code",
      "execution_count": null,
      "id": "817a0ece",
      "metadata": {
        "id": "817a0ece"
      },
      "outputs": [],
      "source": [
        "# Create your Retriever\n",
        "qa = RetrievalQA.from_chain_type(llm=llm, chain_type=\"stuff\", retriever=docsearch.as_retriever())"
      ]
    },
    {
      "cell_type": "code",
      "execution_count": null,
      "id": "20b81063",
      "metadata": {
        "colab": {
          "base_uri": "https://localhost:8080/",
          "height": 36
        },
        "id": "20b81063",
        "outputId": "dea1166b-4387-4604-b890-d739c3cf1647"
      },
      "outputs": [
        {
          "data": {
            "application/vnd.google.colaboratory.intrinsic+json": {
              "type": "string"
            },
            "text/plain": [
              "' The file I have access to is the existing attachment.'"
            ]
          },
          "execution_count": 32,
          "metadata": {},
          "output_type": "execute_result"
        }
      ],
      "source": [
        "# Run a query\n",
        "query = \"  ?\"\n",
        "qa.run(query)"
      ]
    },
    {
      "cell_type": "markdown",
      "id": "f22231c5",
      "metadata": {
        "id": "f22231c5"
      },
      "source": [
        "### Sources"
      ]
    },
    {
      "cell_type": "code",
      "execution_count": null,
      "id": "694343cb",
      "metadata": {
        "id": "694343cb"
      },
      "outputs": [],
      "source": [
        "qa = RetrievalQA.from_chain_type(llm=llm,\n",
        "                                chain_type=\"stuff\",\n",
        "                                retriever=docsearch.as_retriever(),\n",
        "                                return_source_documents=True)\n",
        "query = \"Explain {448  CHAPTEB  XXII} ?\"\n",
        "result = qa({\"query\": query})"
      ]
    },
    {
      "cell_type": "code",
      "execution_count": null,
      "id": "bec53323",
      "metadata": {
        "colab": {
          "base_uri": "https://localhost:8080/",
          "height": 36
        },
        "id": "bec53323",
        "outputId": "508e5f9b-e66f-4c2e-c435-e82c9820fd3d"
      },
      "outputs": [
        {
          "data": {
            "application/vnd.google.colaboratory.intrinsic+json": {
              "type": "string"
            },
            "text/plain": [
              "' Paris'"
            ]
          },
          "execution_count": 39,
          "metadata": {},
          "output_type": "execute_result"
        }
      ],
      "source": [
        "result['result']"
      ]
    },
    {
      "cell_type": "code",
      "execution_count": null,
      "id": "32246ae3",
      "metadata": {
        "colab": {
          "base_uri": "https://localhost:8080/"
        },
        "id": "32246ae3",
        "outputId": "eadf203a-0258-451d-ec66-c99ea4f7196a"
      },
      "outputs": [
        {
          "data": {
            "text/plain": [
              "[Document(page_content='1', metadata={'source': '/content/drive/MyDrive/Law/CPC.txt'}),\n",
              " Document(page_content='1', metadata={'source': '/content/drive/MyDrive/Law/CPC.txt'}),\n",
              " Document(page_content='Jail at ..................................', metadata={'source': '/content/drive/MyDrive/Law/CPC.txt'}),\n",
              " Document(page_content='By  the  English  law,  pigeons,  while  they  frequent  a  dove- cote, are  the  property  of  the  owner  of  the  dove-cote. By  the Boman  law  they  were  not  so. By  the  French  law  they  are his  property  at  one  time  of  the  year,  and  not  his  property  at another. Here  it  is  evident  that  the  taking  of  such  a  pigeon, which  would,  in  England,  be  a  violation  of  the  right  of  pro- perty, would  be  none  in  a  country  governed  by  the  Boman  law,\\n\\nThis  is  a  part  of  the  note  appended  to  the  Chapter  of  Oflfencos  against  Pro-\\n\\nperty by  the  Indian  Law  Commissioners.\\n\\n328  CHAPTER  XVII^\\n\\nand  that,  in  France  it  would  depend  on  the  time  of  the  year whether  it  were  so  or  not.', metadata={'source': '/content/drive/MyDrive/Law/IPC.txt'})]"
            ]
          },
          "execution_count": 40,
          "metadata": {},
          "output_type": "execute_result"
        }
      ],
      "source": [
        "result['source_documents']"
      ]
    }
  ],
  "metadata": {
    "colab": {
      "provenance": []
    },
    "kernelspec": {
      "display_name": "Python 3 (ipykernel)",
      "language": "python",
      "name": "python3"
    },
    "language_info": {
      "codemirror_mode": {
        "name": "ipython",
        "version": 3
      },
      "file_extension": ".py",
      "mimetype": "text/x-python",
      "name": "python",
      "nbconvert_exporter": "python",
      "pygments_lexer": "ipython3",
      "version": "3.11.4"
    }
  },
  "nbformat": 4,
  "nbformat_minor": 5
}
